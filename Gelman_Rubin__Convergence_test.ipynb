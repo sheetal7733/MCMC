{
 "cells": [
  {
   "cell_type": "code",
   "execution_count": 1,
   "id": "abaa699d",
   "metadata": {},
   "outputs": [],
   "source": [
    "import numpy as np\n",
    "import matplotlib.pyplot as plt"
   ]
  },
  {
   "cell_type": "code",
   "execution_count": 2,
   "id": "9c8a0174",
   "metadata": {},
   "outputs": [],
   "source": [
    "H0 = 100\n",
    "c_const = 3*10**(5)\n",
    "#n_s = 10000\n",
    "\n",
    "data = np.loadtxt(\"jla_mub_0.txt\")\n",
    "cov_matx=np.loadtxt(\"jla_mub_covmatrix.txt\")\n",
    "z=data[:,0]\n",
    "Mu = data[:,1]\n",
    "cov = cov_matx.reshape(31,31)\n",
    "In_c = np.linalg.inv(cov)\n",
    "#print(In_c)\n",
    "\n",
    "\n",
    "def eta(a,omega):\n",
    "    s = ((1-omega)/(omega))**(1/3)\n",
    "    x = (s**(3)+1)**(1/2)\n",
    "    x1 = s/(a**(3))\n",
    "    x2 = (s**(2))/(a**(2))\n",
    "    x3 = (s**(3))/(a)\n",
    "    x4 = (1/(a**(4)))-(0.1540*x1)+(0.4304*x2)+(0.19097*x3)+(0.066941*s**(4))\n",
    "    n = 2*x*(x4**(-1/8))\n",
    "    return n\n",
    "    \n",
    "def lum_dis(z,omega):\n",
    "    g1 = 1+z\n",
    "    g2 = 1/g1\n",
    "    d = (c_const/H0)*g1*(eta(1,omega)-eta(g2,omega))\n",
    "    return d\n",
    "def mu(z,omega,h):\n",
    "    mu1 = 25-(5*np.log10(h))+(5*np.log10(lum_dis(z,omega)))\n",
    "    return mu1\n",
    "    \n",
    "\n",
    "def lik(omega,h):\n",
    "    if (h<=0 or omega<=0):\n",
    "        \n",
    "        return -np.inf  \n",
    "    elif (h>=1 or omega>=1):\n",
    "        return -np.inf\n",
    "    else:\n",
    "        l = 0\n",
    "        mu_theory = mu(z,omega,h)\n",
    "        for i in range(31):\n",
    "            for j in range(31):\n",
    "                diff1=(Mu[i]-mu_theory[i])\n",
    "                diff2=(Mu[j]-mu_theory[j])\n",
    "                u1 = np.dot(In_c[i,j],diff1)\n",
    "                l += u1*diff2\n",
    "        return (-0.5)*l"
   ]
  },
  {
   "cell_type": "code",
   "execution_count": 3,
   "id": "1e849221",
   "metadata": {},
   "outputs": [],
   "source": [
    "def prior1(h):\n",
    "    mean = 0.738\n",
    "    std = 0.024\n",
    "    m1 = 1/(np.sqrt(2*np.pi)*std)\n",
    "    h_m2 = -(h-mean)**(2)\n",
    "    h_m = m1*np.exp(h_m2/2)\n",
    "    return h_m\n",
    "def prior2(omega):\n",
    "     mean = 0.738\n",
    "     std = 0.024\n",
    "     m1 = 1/(np.sqrt(2*np.pi)*std)\n",
    "     omega_m2 = -(omega-mean)**(2)\n",
    "     omega_m = m1*np.exp(omega_m2/2)\n",
    "     return omega_m\n",
    "    \n",
    "    \n",
    "    \n",
    "def target(omega,h):\n",
    "    P = np.exp(lik(omega,h))*prior1(h)*prior2(omega)\n",
    "    return P"
   ]
  },
  {
   "cell_type": "code",
   "execution_count": 4,
   "id": "9ea40d8a",
   "metadata": {},
   "outputs": [
    {
     "name": "stdout",
     "output_type": "stream",
     "text": [
      "-660.2074420016542\n",
      "5.0177987047780406e-285\n"
     ]
    }
   ],
   "source": [
    "print(lik(0.6,0.5))\n",
    "print(target(0.6,0.5))"
   ]
  },
  {
   "cell_type": "code",
   "execution_count": 7,
   "id": "9868a363",
   "metadata": {},
   "outputs": [],
   "source": [
    "#Defining the Monte Carlo Markov Chain for h and Omega n times with different initial values\n",
    "def MCMC(n,n_s,sig1,sig2):\n",
    "    h1 = np.zeros((n,n_s))\n",
    "    omega1 = np.zeros((n,n_s))\n",
    "    for j in range(n):\n",
    "        h = np.zeros(n_s)\n",
    "        omega = np.zeros(n_s)\n",
    "        h[0]=np.random.uniform(0,1)\n",
    "        omega[0]=np.random.uniform(0,1)\n",
    "        for i in range(1,n_s):\n",
    "            cur_h = h[i-1]\n",
    "            cur_omega = omega[i-1]\n",
    "            propsd_h = np.random.normal(cur_h,sig1)\n",
    "            propsd_omega = np.random.normal(cur_omega,sig2)\n",
    "            target_ratio = target(propsd_omega,propsd_h)/(target(cur_omega,cur_h))\n",
    "            y1 = target_ratio\n",
    "            y = min(1,y1)\n",
    "            u = np.random.uniform(0,1)\n",
    "            if u<y:\n",
    "                h[i] = propsd_h\n",
    "                omega[i] = propsd_omega\n",
    "            else:\n",
    "                h[i] = cur_h\n",
    "                omega[i]=cur_omega\n",
    "        h1[j] = h\n",
    "        omega1[j] = omega\n",
    "    return omega1,h1\n"
   ]
  },
  {
   "cell_type": "code",
   "execution_count": 6,
   "id": "e0be3453",
   "metadata": {},
   "outputs": [
    {
     "name": "stderr",
     "output_type": "stream",
     "text": [
      "C:\\Users\\sheet\\AppData\\Local\\Temp\\ipykernel_32640\\1908275321.py:20: RuntimeWarning: invalid value encountered in double_scalars\n",
      "  target_ratio = target(propsd_omega,propsd_h)/(target(cur_omega,cur_h))\n",
      "C:\\Users\\sheet\\AppData\\Local\\Temp\\ipykernel_32640\\1908275321.py:20: RuntimeWarning: divide by zero encountered in double_scalars\n",
      "  target_ratio = target(propsd_omega,propsd_h)/(target(cur_omega,cur_h))\n"
     ]
    },
    {
     "name": "stdout",
     "output_type": "stream",
     "text": [
      "(array([[0.0625143 , 0.08136653, 0.01200916, ..., 0.31483943, 0.31483943,\n",
      "        0.31483943],\n",
      "       [0.68698248, 0.68698248, 0.68698248, ..., 0.34752307, 0.34752307,\n",
      "        0.34752307],\n",
      "       [0.67915747, 0.69119135, 0.7121971 , ..., 0.32233101, 0.32233101,\n",
      "        0.26828591],\n",
      "       [0.88581619, 0.84708418, 0.86929179, ..., 0.34139261, 0.34139261,\n",
      "        0.34139261]]), array([[ 0.04280383, -0.04393748, -0.14426229, ...,  0.69340513,\n",
      "         0.69340513,  0.69340513],\n",
      "       [ 0.61694978,  0.61694978,  0.61694978, ...,  0.69584338,\n",
      "         0.69584338,  0.69584338],\n",
      "       [ 0.02107788,  0.01138748,  0.03895651, ...,  0.69370014,\n",
      "         0.69370014,  0.69998129],\n",
      "       [ 0.00984437,  0.01118589,  0.04497103, ...,  0.6959256 ,\n",
      "         0.6959256 ,  0.6959256 ]]))\n"
     ]
    }
   ],
   "source": [
    "print(MCMC(4,1000,0.05,0.05))"
   ]
  },
  {
   "cell_type": "code",
   "execution_count": 14,
   "id": "22e127c0",
   "metadata": {},
   "outputs": [
    {
     "name": "stdout",
     "output_type": "stream",
     "text": [
      "0.709318571907254\n",
      "0.28161126199311803\n"
     ]
    },
    {
     "data": {
      "image/png": "[encoded data removed]",
      "text/plain": [
       "<Figure size 1008x504 with 1 Axes>"
      ]
     },
     "metadata": {
      "needs_background": "light"
     },
     "output_type": "display_data"
    },
    {
     "data": {
      "image/png": "[encoded data removed]",
      "text/plain": [
       "<Figure size 1008x504 with 1 Axes>"
      ]
     },
     "metadata": {
      "needs_background": "light"
     },
     "output_type": "display_data"
    }
   ],
   "source": [
    "#Now calculate the mean of the h and omega values with prior and Importance sampling\n",
    "n_s = 10000\n",
    "h = np.zeros(n_s)\n",
    "#print(h)\n",
    "omega = np.zeros(n_s)\n",
    "h[0]=0.6\n",
    "omega[0]=0.5\n",
    "\n",
    "\n",
    "\n",
    "for i in range(1,n_s):\n",
    "#         h[0]=np.random.uniform(0,1)\n",
    "#         omega[0]=np.random.uniform(0,1)\n",
    "        cur_h = h[i-1]\n",
    "        cur_omega = omega[i-1]\n",
    "    #     h = proposal_distr()\n",
    "    #     omega = proposal_distr()\n",
    "        propsd_h = np.random.normal(cur_h,0.05)\n",
    "        propsd_omega = np.random.normal(cur_omega,0.05)\n",
    "        target_ratio = target(propsd_omega,propsd_h)/(target(cur_omega,cur_h))\n",
    "        y1 = target_ratio\n",
    "        y = min(1,y1)\n",
    "        u = np.random.uniform(0,1)\n",
    "        if u<y:\n",
    "            h[i] = propsd_h\n",
    "            omega[i] = propsd_omega\n",
    "        else:\n",
    "            h[i] = cur_h\n",
    "            omega[i]=cur_omega\n",
    "\n",
    "\n",
    "\n",
    "\n",
    "#print(w) \n",
    "#Defining the weights for the samples\n",
    "for i in range(1000):\n",
    "    weights1 = target(omega[i],h[i])/propsd_h\n",
    "    weights2 = target(omega[i],h[i])/propsd_omega\n",
    "    \n",
    "#Weighted Mean with prior\n",
    "#print(propsd_h)\n",
    "mean_h = np.sum(h[i]*weights1)/np.sum(weights1)\n",
    "mean_omega =  np.sum(omega[i]*weights2)/np.sum(weights2)\n",
    "print(mean_h)\n",
    "print(mean_omega)\n",
    "#print(weights)\n",
    "plt.figure(figsize=(14,7))\n",
    "plt.hist(h,bins=20)\n",
    "plt.xlabel('h values')\n",
    "plt.ylabel('Frequency')\n",
    "plt.title(\"Histogram of the h values\")\n",
    "plt.grid()\n",
    "#print(h)\n",
    "#print(mean_h)\n",
    "#print(np.mean(h))\n",
    "plt.show()\n",
    "#print(h)\n",
    "plt.figure(figsize=(14,7))\n",
    "plt.hist(omega,bins=20)\n",
    "plt.xlabel('omega values')\n",
    "plt.ylabel('Frequency')\n",
    "plt.title(\"Histogram of the omega values\")\n",
    "plt.grid()\n",
    "#print(np.mean(omega))"
   ]
  },
  {
   "cell_type": "code",
   "execution_count": 15,
   "id": "c90e5a0e",
   "metadata": {},
   "outputs": [
    {
     "data": {
      "text/plain": [
       "<matplotlib.collections.PathCollection at 0x1f6a45a8be0>"
      ]
     },
     "execution_count": 15,
     "metadata": {},
     "output_type": "execute_result"
    },
    {
     "data": {
      "image/png": "[encoded data removed]",
      "text/plain": [
       "<Figure size 432x288 with 1 Axes>"
      ]
     },
     "metadata": {
      "needs_background": "light"
     },
     "output_type": "display_data"
    }
   ],
   "source": [
    "plt.scatter(h[:],omega[:])"
   ]
  },
  {
   "cell_type": "code",
   "execution_count": 16,
   "id": "35969753",
   "metadata": {},
   "outputs": [
    {
     "name": "stderr",
     "output_type": "stream",
     "text": [
      "C:\\Users\\sheet\\AppData\\Local\\Temp\\ipykernel_32640\\2684186955.py:16: RuntimeWarning: overflow encountered in exp\n",
      "  y1 = np.exp((lik_n2)-(lik_n1))\n"
     ]
    }
   ],
   "source": [
    "#Calculating the mean of the h and omega values without prior\n",
    "h = np.zeros(n_s)\n",
    "#print(h)\n",
    "omega = np.zeros(n_s)\n",
    "# print(ohm)\n",
    "\n",
    "for i in range(1,n_s):\n",
    "    h[0]=np.random.uniform(0,1)\n",
    "    omega[0]=np.random.uniform(0,1)\n",
    "    cur_h = h[i-1]\n",
    "    cur_omega = omega[i-1]\n",
    "    propsd_h = np.random.normal(cur_h,0.05)\n",
    "    propsd_omega = np.random.normal(cur_omega,0.05)\n",
    "    lik_n1 = lik(cur_omega,cur_h)\n",
    "    lik_n2 = lik(propsd_omega,propsd_h)\n",
    "    y1 = np.exp((lik_n2)-(lik_n1))\n",
    "    y = min(1,y1)\n",
    "    u = np.random.uniform(0,1)\n",
    "    if u<y:\n",
    "        h[i] = propsd_h\n",
    "        omega[i] = propsd_omega\n",
    "    else:\n",
    "        h[i] = cur_h\n",
    "        omega[i]=cur_omega\n",
    "          "
   ]
  },
  {
   "cell_type": "code",
   "execution_count": 17,
   "id": "fab1570e",
   "metadata": {},
   "outputs": [
    {
     "name": "stdout",
     "output_type": "stream",
     "text": [
      "0.7030155187815053\n",
      "0.29414117897130926\n"
     ]
    }
   ],
   "source": [
    "#Mean without prior\n",
    "print(np.mean(h))\n",
    "print(np.mean(omega))"
   ]
  },
  {
   "cell_type": "code",
   "execution_count": 18,
   "id": "47ddff5b",
   "metadata": {},
   "outputs": [
    {
     "name": "stdout",
     "output_type": "stream",
     "text": [
      "0.9999499987499375\n",
      "0.9999499987499375\n"
     ]
    },
    {
     "name": "stderr",
     "output_type": "stream",
     "text": [
      "C:\\Users\\sheet\\AppData\\Local\\Temp\\ipykernel_32640\\2955354843.py:15: RuntimeWarning: invalid value encountered in double_scalars\n",
      "  target_ratio = target(propsd_omega,propsd_h)/(target(cur_omega,cur_h))\n"
     ]
    }
   ],
   "source": [
    "#Gelman Rubin Convergence test\n",
    "h_or,omega_or= MCMC(4,1000,0.5,0.5)\n",
    "within_chain_var_h = np.var(h_or,axis=1,ddof=1)\n",
    "h_mean = np.mean(h_or)\n",
    "h_var = np.var(h_mean)\n",
    "between_chain_var_h = ((h_or.shape[1]-1)/h_or.shape[0])*h_var\n",
    "#print(within_chan_var)\n",
    "W = np.mean(within_chain_var_h)\n",
    "B = between_chain_var_h\n",
    "var_hat = ((n_s - 1) / n_s) * W + (1 / n_s) * B\n",
    "\n",
    "# Calculate potential scale reduction factor\n",
    "R_hat = np.sqrt(var_hat / W)\n",
    "print(R_hat)\n",
    "within_chain_var_omega = np.var(omega_or,axis=1,ddof=1)\n",
    "omega_mean = np.mean(omega_or)\n",
    "omega_var = np.var(omega_mean)\n",
    "between_chain_var_omega = ((omega_or.shape[1]-1)/omega_or.shape[0])*h_var\n",
    "#print(within_chan_var)\n",
    "W1 = np.mean(within_chain_var_omega)\n",
    "B1 = between_chain_var_omega\n",
    "var_hat1 = ((n_s - 1) / n_s) * W1 + (1 / n_s) * B1\n",
    "\n",
    "# Calculate potential scale reduction factor\n",
    "R_hat1 = np.sqrt(var_hat1 / W1)\n",
    "print(R_hat1)\n",
    "\n",
    "#If the Potential scale reduction factor is close to the 1 then the the number of  times we run the Monte Carlo Markov Chain \n",
    "#is converge."
   ]
  }
 ],
 "metadata": {
  "kernelspec": {
   "display_name": "Python 3 (ipykernel)",
   "language": "python",
   "name": "python3"
  },
  "language_info": {
   "codemirror_mode": {
    "name": "ipython",
    "version": 3
   },
   "file_extension": ".py",
   "mimetype": "text/x-python",
   "name": "python",
   "nbconvert_exporter": "python",
   "pygments_lexer": "ipython3",
   "version": "3.9.12"
  }
 },
 "nbformat": 4,
 "nbformat_minor": 5
}
